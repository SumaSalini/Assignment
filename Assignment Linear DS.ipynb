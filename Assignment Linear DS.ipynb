{
 "cells": [
  {
   "cell_type": "code",
   "execution_count": 2,
   "metadata": {},
   "outputs": [
    {
     "name": "stdout",
     "output_type": "stream",
     "text": [
      "5 2\n",
      "3 4\n",
      "1 6\n"
     ]
    }
   ],
   "source": [
    "# Q1.Write a program to find all pairs of an integer array whose sum is equal to a given number?\n",
    "def find(array,summ):\n",
    "    for i in range(summ):\n",
    "        for j in range(i, summ):\n",
    "            if (array[i] + array[j]) == summ:\n",
    "                print(array[i], array[j])\n",
    "\n",
    "\n",
    "array = [5, 2, 3, 4, 1, 6]\n",
    "summ = 7\n",
    "find(array,summ)"
   ]
  },
  {
   "cell_type": "code",
   "execution_count": 3,
   "metadata": {},
   "outputs": [
    {
     "name": "stdout",
     "output_type": "stream",
     "text": [
      "[1, 2, 3, 4, 5, 6]\n",
      "Reversed list is\n",
      "[6, 5, 4, 3, 2, 1]\n"
     ]
    }
   ],
   "source": [
    "# Q2.Write a program to reverse an array in place? In place means you cannot create a new array. You have to update the original array.\n",
    "def reverseList(A):\n",
    "    print( A[::-1])\n",
    "\t\n",
    "A = [1, 2, 3, 4, 5, 6]\n",
    "print(A)\n",
    "print(\"Reversed list is\")\n",
    "reverseList(A)"
   ]
  },
  {
   "cell_type": "code",
   "execution_count": 4,
   "metadata": {},
   "outputs": [
    {
     "name": "stdout",
     "output_type": "stream",
     "text": [
      "True\n",
      "False\n"
     ]
    }
   ],
   "source": [
    "# Q3.Write a program to check if two strings are a rotation of each other?\n",
    "def is_rotation(str1, str2):\n",
    "    if len(str1) != len(str2):\n",
    "        return False\n",
    "    concat_str = str1 + str1\n",
    "    if str2 in concat_str:\n",
    "        return True\n",
    "    else:\n",
    "        return False\n",
    "\n",
    "str1 = \"waterbottle\"\n",
    "str2 = \"erbottlewat\"\n",
    "print(is_rotation(str1, str2))  # Output: True\n",
    "\n",
    "str3 = \"hello\"\n",
    "str4 = \"world\"\n",
    "print(is_rotation(str3, str4))  # Output: False"
   ]
  },
  {
   "cell_type": "code",
   "execution_count": 5,
   "metadata": {},
   "outputs": [
    {
     "name": "stdout",
     "output_type": "stream",
     "text": [
      "None\n",
      "None\n",
      "d\n"
     ]
    }
   ],
   "source": [
    "# Q4.Write a program to print the first non-repeated character from a string?\n",
    "def first_non_repeated_char(string):\n",
    "    char_count = {}\n",
    "    for char in string:\n",
    "        if char in char_count:\n",
    "            char_count[char] += 1\n",
    "        else:\n",
    "            char_count[char] = 1\n",
    "    for char in string:\n",
    "        if char_count[char] == 1:\n",
    "            return char\n",
    "    return None\n",
    "\n",
    "string1 = \"aabbccddeeff\"\n",
    "print(first_non_repeated_char(string1)) \n",
    "\n",
    "string2 = \"aabbccddee\"\n",
    "print(first_non_repeated_char(string2))\n",
    "\n",
    "string3 = \"abcdefgabc\"\n",
    "print(first_non_repeated_char(string3)) "
   ]
  },
  {
   "cell_type": "code",
   "execution_count": 6,
   "metadata": {},
   "outputs": [
    {
     "name": "stdout",
     "output_type": "stream",
     "text": [
      "Move disc 1 from A to C\n",
      "Move disc 2 from A to B\n",
      "Move disc 1 from C to B\n",
      "Move disc 3 from A to C\n",
      "Move disc 1 from B to A\n",
      "Move disc 2 from B to C\n",
      "Move disc 1 from A to C\n"
     ]
    }
   ],
   "source": [
    "# Q5.Read about the Tower of Hanoi algorithm. Write a program to implement it.\n",
    "'''The Tower of Hanoi is a classic problem in computer science and mathematics that involves moving a stack of discs of different \n",
    "sizes from one peg to another, using a third peg as an intermediate. The problem has the following rules:\n",
    "Only one disc can be moved at a time.\n",
    "Each move consists of taking the upper disc from one of the stacks and placing it on top of another stack or on an empty peg.\n",
    "No larger disc may be placed on top of a smaller disc.\n",
    "Here's a Python program to implement the Tower of Hanoi algorithm recursively:'''\n",
    "def tower_of_hanoi(n, source, destination, auxiliary):\n",
    "    \n",
    "    if n == 1:\n",
    "        print(f\"Move disc 1 from {source} to {destination}\")\n",
    "        return\n",
    "    tower_of_hanoi(n-1, source, auxiliary, destination)\n",
    "    print(f\"Move disc {n} from {source} to {destination}\")\n",
    "    tower_of_hanoi(n-1, auxiliary, destination, source)\n",
    "\n",
    "tower_of_hanoi(3, 'A', 'C', 'B')"
   ]
  },
  {
   "cell_type": "code",
   "execution_count": 7,
   "metadata": {},
   "outputs": [
    {
     "name": "stdout",
     "output_type": "stream",
     "text": [
      "2+3-4*5\n"
     ]
    }
   ],
   "source": [
    "# Q6.Read about infix, prefix, and postfix expressions. Write a program to convert postfix to prefix expression.\n",
    "'''Infix notation is the standard notation for writing arithmetic expressions in which the operator is placed between the \n",
    "operands, such as 2 + 3 or (4 * 5) - 6.\n",
    "Prefix notation, also called Polish notation, is a way of writing arithmetic expressions in which the operator is placed \n",
    "before the operands, such as + 2 3 or - * 4 5 6.\n",
    "Postfix notation, also called reverse Polish notation, is a way of writing arithmetic expressions in which the operator is \n",
    "placed after the operands, such as 2 3 + or 4 5 * 6 -.'''\n",
    "\n",
    "def postfix_to_prefix(expression):\n",
    "    stack = []\n",
    "    for char in expression:\n",
    "        if char.isdigit():\n",
    "            stack.append(char)\n",
    "        else:\n",
    "            operand2 = stack.pop()\n",
    "            operand1 = stack.pop()\n",
    "            stack.append( operand1 +char+ operand2)\n",
    "    return stack.pop()\n",
    "\n",
    "expression = \"23+45*-\"\n",
    "print(postfix_to_prefix(expression))"
   ]
  },
  {
   "cell_type": "code",
   "execution_count": 8,
   "metadata": {},
   "outputs": [
    {
     "name": "stdout",
     "output_type": "stream",
     "text": [
      "(((2 + 3) - (5 * 4)) * 9)\n"
     ]
    }
   ],
   "source": [
    "# Q7.Write a program to convert prefix expression to infix expression.\n",
    "def prefix_to_infix(expression):\n",
    "    stack = []\n",
    "    operators = set(['+', '-', '*', '/', '^'])\n",
    "    for char in reversed(expression):\n",
    "        if char in operators:\n",
    "            operand1 = stack.pop()\n",
    "            operand2 = stack.pop()\n",
    "            stack.append(f\"({operand1} {char} {operand2})\")\n",
    "        else:\n",
    "            stack.append(char)\n",
    "    return stack.pop()\n",
    "\n",
    "expression = \"*-+23*549\"\n",
    "print(prefix_to_infix(expression))"
   ]
  },
  {
   "cell_type": "code",
   "execution_count": 10,
   "metadata": {},
   "outputs": [
    {
     "name": "stdout",
     "output_type": "stream",
     "text": [
      "Given string is balanced: True\n"
     ]
    }
   ],
   "source": [
    "# Q8.Write a program to check if all the brackets are closed in a given code snippet.\n",
    "def isbalanced(s):\n",
    "    while(len(s)!=0):\n",
    "        s=s.replace('()','')\n",
    "        s=s.replace('[]','')\n",
    "        s=s.replace('{}','')\n",
    "        break\n",
    "    if(len(s)==0):\n",
    "        return True\n",
    "    else:\n",
    "        return False\n",
    "s=input(\"Enter a string of brackets:\")\n",
    "print(\"Given string is balanced:\",isbalanced(s))"
   ]
  },
  {
   "cell_type": "code",
   "execution_count": 11,
   "metadata": {},
   "outputs": [
    {
     "name": "stdout",
     "output_type": "stream",
     "text": [
      "[5, 4, 3, 2, 1]\n"
     ]
    }
   ],
   "source": [
    "#Q9.Write a program to reverse a stack\n",
    "def reverse_stack(stack):\n",
    "    if len(stack) == 0:\n",
    "        return\n",
    "    top = stack.pop()\n",
    "    reverse_stack(stack)\n",
    "    insert_at_bottom(stack, top)\n",
    "    \n",
    "def insert_at_bottom(stack, item):\n",
    "    if len(stack) == 0:\n",
    "        stack.append(item)\n",
    "        return\n",
    "    top = stack.pop()\n",
    "    insert_at_bottom(stack, item)\n",
    "    stack.append(top)\n",
    "\n",
    "\n",
    "stack = [1, 2, 3, 4, 5]\n",
    "reverse_stack(stack)\n",
    "print(stack)"
   ]
  },
  {
   "cell_type": "code",
   "execution_count": 12,
   "metadata": {},
   "outputs": [
    {
     "name": "stdout",
     "output_type": "stream",
     "text": [
      "1\n",
      "2\n"
     ]
    }
   ],
   "source": [
    "# Q10.Write a program to find the smallest number using a stack.\n",
    "class MinStack:\n",
    "    def __init__(self):\n",
    "        self.stack = []\n",
    "        self.min_stack = []\n",
    "        \n",
    "    def push(self, item):\n",
    "        self.stack.append(item)\n",
    "        if not self.min_stack or item <= self.min_stack[-1]:\n",
    "            self.min_stack.append(item)\n",
    "            \n",
    "    def pop(self):\n",
    "        if self.stack[-1] == self.min_stack[-1]:\n",
    "            self.min_stack.pop()\n",
    "        return self.stack.pop()\n",
    "        \n",
    "    def get_min(self):\n",
    "        return self.min_stack[-1]\n",
    "\n",
    "\n",
    "stack = MinStack()\n",
    "stack.push(5)\n",
    "stack.push(2)\n",
    "stack.push(7)\n",
    "stack.push(1)\n",
    "print(stack.get_min())  \n",
    "stack.pop()\n",
    "print(stack.get_min()) "
   ]
  }
 ],
 "metadata": {
  "kernelspec": {
   "display_name": "Python 3",
   "language": "python",
   "name": "python3"
  },
  "language_info": {
   "codemirror_mode": {
    "name": "ipython",
    "version": 3
   },
   "file_extension": ".py",
   "mimetype": "text/x-python",
   "name": "python",
   "nbconvert_exporter": "python",
   "pygments_lexer": "ipython3",
   "version": "3.11.2"
  },
  "orig_nbformat": 4
 },
 "nbformat": 4,
 "nbformat_minor": 2
}
