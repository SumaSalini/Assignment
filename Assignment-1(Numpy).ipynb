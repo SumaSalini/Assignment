{
 "cells": [
  {
   "cell_type": "code",
   "execution_count": 2,
   "metadata": {},
   "outputs": [
    {
     "name": "stdout",
     "output_type": "stream",
     "text": [
      "[0. 0. 0. 0. 1. 0. 0. 0. 0. 0.]\n"
     ]
    }
   ],
   "source": [
    "# 1. Create a null vector of size 10 but the fifth value which is 1.\n",
    "import numpy as np\n",
    "x=np.zeros(10)\n",
    "x[4]=1\n",
    "print(x)"
   ]
  },
  {
   "cell_type": "code",
   "execution_count": 16,
   "metadata": {},
   "outputs": [
    {
     "name": "stdout",
     "output_type": "stream",
     "text": [
      "[10 11 12 13 14 15 16 17 18 19 20 21 22 23 24 25 26 27 28 29 30 31 32 33\n",
      " 34 35 36 37 38 39 40 41 42 43 44 45 46 47 48 49]\n"
     ]
    }
   ],
   "source": [
    "# 2. Create a vector with values ranging from 10 to 49. \n",
    "import numpy as np\n",
    "x = np.arange(10,50)\n",
    "print(x)"
   ]
  },
  {
   "cell_type": "code",
   "execution_count": 7,
   "metadata": {},
   "outputs": [
    {
     "name": "stdout",
     "output_type": "stream",
     "text": [
      "[[0 1 2]\n",
      " [3 4 5]\n",
      " [6 7 8]]\n"
     ]
    }
   ],
   "source": [
    "# 3. Create a 3x3 matrix with values ranging from 0 to 8\n",
    "import numpy as np\n",
    "x =  np.arange(0,9).reshape(3,3)\n",
    "print(x)"
   ]
  },
  {
   "cell_type": "code",
   "execution_count": 10,
   "metadata": {},
   "outputs": [
    {
     "name": "stdout",
     "output_type": "stream",
     "text": [
      "[0 1 4]\n"
     ]
    }
   ],
   "source": [
    "# 4. Find indices of non-zero elements from [1,2,0,0,4,0]\n",
    "import numpy as np\n",
    "x = np.array([1,2,0,0,4,0])\n",
    "result = np.where(x != 0)[0]\n",
    "print(result)"
   ]
  },
  {
   "cell_type": "code",
   "execution_count": 13,
   "metadata": {},
   "outputs": [
    {
     "name": "stdout",
     "output_type": "stream",
     "text": [
      "[[0.78305141 0.45025911 0.67759586 0.84079478 0.69928345 0.00305055\n",
      "  0.99230322 0.93598764 0.90803241 0.64936853]\n",
      " [0.89253457 0.65498803 0.10562864 0.83930423 0.24545372 0.57285829\n",
      "  0.36279735 0.56868413 0.34057103 0.95688576]\n",
      " [0.00408485 0.96924507 0.47967783 0.24964407 0.41396749 0.56234353\n",
      "  0.65400169 0.7016309  0.77871589 0.76284117]\n",
      " [0.94188932 0.13164971 0.8536773  0.64381086 0.72843945 0.85797392\n",
      "  0.2852261  0.90934001 0.95661499 0.39482169]\n",
      " [0.51147916 0.40330662 0.48808614 0.48485917 0.69105251 0.50329001\n",
      "  0.50320319 0.81372005 0.87377697 0.66422605]\n",
      " [0.85075098 0.62132072 0.86643077 0.7058589  0.65933593 0.41497195\n",
      "  0.81630638 0.57933498 0.13193774 0.16744411]\n",
      " [0.76114729 0.94542772 0.37954416 0.6944441  0.57525965 0.90756656\n",
      "  0.42490465 0.8142232  0.01540249 0.00182163]\n",
      " [0.05132947 0.07255881 0.10965543 0.50674259 0.96640923 0.52542887\n",
      "  0.54373088 0.82422606 0.2763075  0.21492114]\n",
      " [0.37743171 0.6420395  0.36589047 0.41957634 0.25219983 0.20873053\n",
      "  0.2559406  0.2046218  0.4867796  0.62649331]\n",
      " [0.4096044  0.06797773 0.13684844 0.09473254 0.57541845 0.7276963\n",
      "  0.61730512 0.05270259 0.49570838 0.8029988 ]]\n",
      "Minimum and Maximum Values:\n",
      "0.0018216254290250866 0.9923032230734408\n"
     ]
    }
   ],
   "source": [
    "# 5. Create a 10x10 array with random values and find the minimum and maximum values.\n",
    "import numpy as np\n",
    "x = np.random.random((10,10))\n",
    "print(x) \n",
    "xmin, xmax = x.min(), x.max()\n",
    "print(\"Minimum and Maximum Values:\")\n",
    "print(xmin, xmax)"
   ]
  },
  {
   "cell_type": "code",
   "execution_count": 15,
   "metadata": {},
   "outputs": [
    {
     "name": "stdout",
     "output_type": "stream",
     "text": [
      "Mean value is 0.5151401822097424\n"
     ]
    }
   ],
   "source": [
    "# 6. Create a random vector of size 30 and find the mean value.\n",
    "import numpy as np\n",
    "rand_vec=np.random.random(30)\n",
    "print(\"Mean value is\",rand_vec.mean())"
   ]
  },
  {
   "cell_type": "code",
   "execution_count": null,
   "metadata": {},
   "outputs": [],
   "source": []
  }
 ],
 "metadata": {
  "kernelspec": {
   "display_name": "Python 3",
   "language": "python",
   "name": "python3"
  },
  "language_info": {
   "codemirror_mode": {
    "name": "ipython",
    "version": 3
   },
   "file_extension": ".py",
   "mimetype": "text/x-python",
   "name": "python",
   "nbconvert_exporter": "python",
   "pygments_lexer": "ipython3",
   "version": "3.8.5"
  }
 },
 "nbformat": 4,
 "nbformat_minor": 4
}
