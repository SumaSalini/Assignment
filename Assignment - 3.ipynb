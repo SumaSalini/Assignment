{
 "cells": [
  {
   "cell_type": "code",
   "execution_count": 3,
   "metadata": {},
   "outputs": [
    {
     "name": "stdout",
     "output_type": "stream",
     "text": [
      "20\n"
     ]
    }
   ],
   "source": [
    "# Write a Python function to sum all the numbers in a list.\n",
    "\n",
    "def sumofelements(a):\n",
    "    sum=0\n",
    "    for i in range(len(a)):\n",
    "        sum = sum+a[i]\n",
    "    return sum\n",
    "\n",
    "a = [8,2,3,0,7]\n",
    "print(sumofelements(a))"
   ]
  },
  {
   "cell_type": "code",
   "execution_count": 5,
   "metadata": {},
   "outputs": [
    {
     "name": "stdout",
     "output_type": "stream",
     "text": [
      "dcba4321\n"
     ]
    }
   ],
   "source": [
    "#Write a Python program to reverse a string.\n",
    "\n",
    "a=\"1234abcd\"[::-1]\n",
    "print(a)"
   ]
  },
  {
   "cell_type": "code",
   "execution_count": 17,
   "metadata": {},
   "outputs": [
    {
     "name": "stdout",
     "output_type": "stream",
     "text": [
      "No. of Upper case Characters : 3\n",
      "No. of Lower case Characters : 12\n"
     ]
    }
   ],
   "source": [
    "#Write a Python function that accepts a string and calculate the number of upper case letters and lower case letters.\n",
    "\n",
    "def string(s):\n",
    "    l=0\n",
    "    u=0\n",
    "    for i in a:\n",
    "       if(i>=\"a\" and i<=\"z\"):\n",
    "            l+=1\n",
    "       elif(i>=\"A\" and i<=\"Z\"):\n",
    "            u+=1\n",
    "       else:\n",
    "            pass\n",
    "s = \"The quick Brow Fox\"\n",
    "print(\"No. of Upper case Characters :\",u)\n",
    "print(\"No. of Lower case Characters :\",l)\n"
   ]
  }
 ],
 "metadata": {
  "kernelspec": {
   "display_name": "Python 3",
   "language": "python",
   "name": "python3"
  },
  "language_info": {
   "codemirror_mode": {
    "name": "ipython",
    "version": 3
   },
   "file_extension": ".py",
   "mimetype": "text/x-python",
   "name": "python",
   "nbconvert_exporter": "python",
   "pygments_lexer": "ipython3",
   "version": "3.11.2"
  },
  "orig_nbformat": 4
 },
 "nbformat": 4,
 "nbformat_minor": 2
}
