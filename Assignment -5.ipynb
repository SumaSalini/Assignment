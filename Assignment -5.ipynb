{
 "cells": [
  {
   "cell_type": "code",
   "execution_count": 1,
   "metadata": {},
   "outputs": [
    {
     "name": "stdout",
     "output_type": "stream",
     "text": [
      "The Sum of Square Numbers : 35\n"
     ]
    }
   ],
   "source": [
    "# Challenge 1: Square Numbers and Return Their Sum\n",
    "\n",
    "class Point:\n",
    "\n",
    "    def __init__(self,x,y,z):\n",
    "        self.x = x\n",
    "        self.y = y\n",
    "        self.z = z\n",
    "\n",
    "    def sqSum(self):\n",
    "        print(\"The Sum of Square Numbers :\", self.x**2 + self.y**2 + self.z**2)\n",
    "\n",
    "sum = Point(1,3,5)\n",
    "sum.sqSum()"
   ]
  },
  {
   "cell_type": "code",
   "execution_count": 2,
   "metadata": {},
   "outputs": [
    {
     "name": "stdout",
     "output_type": "stream",
     "text": [
      "104\n",
      "84\n",
      "940\n",
      "9.4\n"
     ]
    }
   ],
   "source": [
    "# Challenge 2: Implement a Calculator Class\n",
    "\n",
    "class Calculator:\n",
    "\n",
    "    def __init__(self,num1,num2):\n",
    "        self.num1 = num1\n",
    "        self.num2 = num2\n",
    "    def add(self):\n",
    "        print(self.num1+self.num2)\n",
    "    def subtract(self):\n",
    "        print(self.num2-self.num1)\n",
    "    def multiply(self):\n",
    "        print(self.num1*self.num2)\n",
    "    def divide(self):\n",
    "        print(self.num2/self.num1)\n",
    "\n",
    "cal = Calculator(10,94)\n",
    "cal.add()\n",
    "cal.subtract()\n",
    "cal.multiply()\n",
    "cal.divide()"
   ]
  },
  {
   "cell_type": "code",
   "execution_count": 7,
   "metadata": {},
   "outputs": [
    {
     "name": "stdout",
     "output_type": "stream",
     "text": [
      "Salini\n",
      "270223\n"
     ]
    }
   ],
   "source": [
    "# Challenge 3: Implement the Complete Student Class\n",
    "\n",
    "class Student:\n",
    "\n",
    "    def setName(self,name):\n",
    "        self.__name = name\n",
    "    def getName(self):\n",
    "        return self.__name \n",
    "    def setRollNumber(self,rollnumber):\n",
    "        self.__rollnumber = rollnumber\n",
    "    def getRollNumber(self):\n",
    "        return self.__rollnumber\n",
    "    \n",
    "s = Student()\n",
    "s.setName(\"Salini\")\n",
    "print(s.getName())\n",
    "s.setRollNumber(270223)\n",
    "print(s.getRollNumber())"
   ]
  },
  {
   "cell_type": "code",
   "execution_count": 4,
   "metadata": {},
   "outputs": [
    {
     "name": "stdout",
     "output_type": "stream",
     "text": [
      "Ashish 5000 5\n"
     ]
    }
   ],
   "source": [
    "# Challenge 4: Implement a Banking Account\n",
    "\n",
    "class Account:\n",
    "    def __init__(self,title=None,account=0):\n",
    "        self.title = title\n",
    "        self.account = account\n",
    "    def printof(self):\n",
    "        print(self.title,self.account)\n",
    "\n",
    "class SavingsAccount(Account):\n",
    "    def __init__(self,title=None,account=0,IntrestRate=0):\n",
    "        super().__init__(title,account)\n",
    "        self.Intrest = IntrestRate\n",
    "    def printof(self):\n",
    "        print(self.title,self.account,self.Intrest)\n",
    "        \n",
    "x = SavingsAccount(\"Ashish\",5000,5)\n",
    "x.printof()"
   ]
  },
  {
   "cell_type": "code",
   "execution_count": 5,
   "metadata": {},
   "outputs": [
    {
     "name": "stdout",
     "output_type": "stream",
     "text": [
      "The Amount deposited into account : 500\n",
      "Current balance is : 2500\n",
      "The Amount withdraw from account : 500\n",
      "Current balance is : 1500\n",
      "100\n"
     ]
    }
   ],
   "source": [
    "# Challenge 5: Handling a Bank Account\n",
    "\n",
    "class Account:\n",
    "    def __init__(self, title=None, balance=0):\n",
    "        self.title = title\n",
    "        self.balance = balance\n",
    "    \n",
    "    def deposit(self, amount):\n",
    "        self.balance =self.balance+ amount\n",
    "        print(\"The Amount deposited into account :\",amount)\n",
    "    \n",
    "    def withdraw(self, amount):\n",
    "            self.balance =self.balance - amount\n",
    "            print(\"The Amount withdraw from account :\",amount)\n",
    "            \n",
    "    def get_balance(self):\n",
    "        print(\"Current balance is :\", self.balance)\n",
    "\n",
    "C = Account(\"Ashish\",2000)\n",
    "C.deposit(500)\n",
    "C.get_balance()\n",
    "c1 = Account(\"Ashish\",2000)\n",
    "c1.withdraw(500)\n",
    "c1.get_balance()\n",
    "\n",
    "\n",
    "class SavingsAccount(Account):\n",
    "    def __init__(self, title=None, balance=0, interestRate=0):\n",
    "            super().__init__(title, balance)\n",
    "            self.interestRate = interestRate\n",
    "    \n",
    "    def interestAmount(self):\n",
    "        intrest = (self.interestRate*self.balance)//100\n",
    "        print(intrest)\n",
    "\n",
    "demo1 = SavingsAccount(\"Ashish\", 2000, 5) \n",
    "demo1.interestAmount()  "
   ]
  }
 ],
 "metadata": {
  "kernelspec": {
   "display_name": "Python 3",
   "language": "python",
   "name": "python3"
  },
  "language_info": {
   "codemirror_mode": {
    "name": "ipython",
    "version": 3
   },
   "file_extension": ".py",
   "mimetype": "text/x-python",
   "name": "python",
   "nbconvert_exporter": "python",
   "pygments_lexer": "ipython3",
   "version": "3.11.2"
  },
  "orig_nbformat": 4
 },
 "nbformat": 4,
 "nbformat_minor": 2
}
